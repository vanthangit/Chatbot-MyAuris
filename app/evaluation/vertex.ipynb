{
 "cells": [
  {
   "cell_type": "code",
   "execution_count": 2,
   "id": "a2d14926",
   "metadata": {},
   "outputs": [],
   "source": [
    "import os\n",
    "os.environ[\"GOOGLE_APPLICATION_CREDENTIALS\"] = \"./chatbot-myauris-auth.json\""
   ]
  },
  {
   "cell_type": "code",
   "execution_count": 3,
   "id": "3e842e62",
   "metadata": {},
   "outputs": [],
   "source": [
    "import os\n",
    "\n",
    "PROJECT_ID = \"chatbot-myauris\"\n",
    "if not PROJECT_ID or PROJECT_ID == [\"your-project-id\"]:\n",
    "    PROJECT_ID = str(os.environ.get(\"GOOGLE_CLOUD_PROJECT\"))\n",
    "\n",
    "LOCATION = os.environ.get(\"GOOGLE_CLOUD_REGION\", \"us-central1\")"
   ]
  },
  {
   "cell_type": "code",
   "execution_count": 4,
   "id": "666e4237",
   "metadata": {},
   "outputs": [],
   "source": [
    "from google import genai\n",
    "from rich import print as rich_print"
   ]
  },
  {
   "cell_type": "code",
   "execution_count": 5,
   "id": "23385cd4",
   "metadata": {},
   "outputs": [],
   "source": [
    "query = \"Hà Nội la fthur đô quốc gia nào?\""
   ]
  },
  {
   "cell_type": "code",
   "execution_count": 6,
   "id": "1e0e5227",
   "metadata": {},
   "outputs": [],
   "source": [
    "MODEL_ID =  'gemini-2.0-flash'"
   ]
  },
  {
   "cell_type": "code",
   "execution_count": 7,
   "id": "b804edeb",
   "metadata": {},
   "outputs": [
    {
     "name": "stdout",
     "output_type": "stream",
     "text": [
      "Hà Nội là thủ đô của Việt Nam.\n",
      "\n"
     ]
    }
   ],
   "source": [
    "client = genai.Client(vertexai=True,  project=PROJECT_ID, location=LOCATION)\n",
    "\n",
    "response = client.models.generate_content(\n",
    "    model=MODEL_ID,\n",
    "    contents=query\n",
    ")\n",
    "\n",
    "print(response.text)"
   ]
  }
 ],
 "metadata": {
  "kernelspec": {
   "display_name": "chatbot_env",
   "language": "python",
   "name": "python3"
  },
  "language_info": {
   "codemirror_mode": {
    "name": "ipython",
    "version": 3
   },
   "file_extension": ".py",
   "mimetype": "text/x-python",
   "name": "python",
   "nbconvert_exporter": "python",
   "pygments_lexer": "ipython3",
   "version": "3.10.0"
  }
 },
 "nbformat": 4,
 "nbformat_minor": 5
}
