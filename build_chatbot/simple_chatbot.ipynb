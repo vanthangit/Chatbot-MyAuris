{
 "cells": [
  {
   "cell_type": "code",
   "execution_count": 1,
   "id": "8f44792c",
   "metadata": {},
   "outputs": [
    {
     "name": "stderr",
     "output_type": "stream",
     "text": [
      "C:\\Users\\FPTSHOP\\AppData\\Local\\Temp\\ipykernel_14932\\654496655.py:16: LangChainDeprecationWarning: The class `HuggingFaceEmbeddings` was deprecated in LangChain 0.2.2 and will be removed in 1.0. An updated version of the class exists in the :class:`~langchain-huggingface package and should be used instead. To use it run `pip install -U :class:`~langchain-huggingface` and import as `from :class:`~langchain_huggingface import HuggingFaceEmbeddings``.\n",
      "  embedding_model = HuggingFaceEmbeddings(model_name=\"bkai-foundation-models/vietnamese-bi-encoder\")\n",
      "c:\\Users\\FPTSHOP\\.conda\\envs\\dev\\lib\\site-packages\\sentence_transformers\\cross_encoder\\CrossEncoder.py:11: TqdmWarning: IProgress not found. Please update jupyter and ipywidgets. See https://ipywidgets.readthedocs.io/en/stable/user_install.html\n",
      "  from tqdm.autonotebook import tqdm, trange\n"
     ]
    }
   ],
   "source": [
    "from langchain_community.embeddings import HuggingFaceEmbeddings\n",
    "from langchain_community.vectorstores import FAISS\n",
    "from langchain.schema import Document\n",
    "import json\n",
    "\n",
    "# Load dữ liệu\n",
    "docs = []\n",
    "with open(\"../crawl_data/data/clean/myauris_allqa.jsonl\", \"r\", encoding=\"utf-8\") as f:\n",
    "    for line in f:\n",
    "        item = json.loads(line)\n",
    "        docs.append(item[\"text\"])\n",
    "\n",
    "documents = [Document(page_content=doc) for doc in docs]\n",
    "\n",
    "# Tạo embedding tiếng Việt\n",
    "embedding_model = HuggingFaceEmbeddings(model_name=\"bkai-foundation-models/vietnamese-bi-encoder\")\n",
    "\n",
    "# Build FAISS\n",
    "vectorstore = FAISS.from_documents(documents, embedding_model)"
   ]
  },
  {
   "cell_type": "code",
   "execution_count": 2,
   "id": "1b36a76f",
   "metadata": {},
   "outputs": [],
   "source": [
    "# Hàm lấy top-k đoạn văn gần nhất\n",
    "def retrieve_top_k(query: str, top_k: int = 2):\n",
    "    retriever = vectorstore.as_retriever(search_type=\"similarity\", k=top_k)\n",
    "    results = retriever.get_relevant_documents(query)\n",
    "    return results"
   ]
  },
  {
   "cell_type": "code",
   "execution_count": 3,
   "id": "6ce277f9",
   "metadata": {},
   "outputs": [],
   "source": [
    "import os\n",
    "from dotenv import load_dotenv\n",
    "\n",
    "load_dotenv()\n",
    "from together import Together\n",
    "\n",
    "client = Together(api_key=os.getenv(\"TOGETHER_API_KEY\"))\n",
    "\n",
    "def generate_answer(query, docs, model=\"deepseek-ai/DeepSeek-R1-Distill-Llama-70B-free\"):\n",
    "    context = \"\\n\".join([doc.page_content for doc in docs])\n",
    "    prompt = f\"\"\"Bạn là trợ lý tư vấn nha khoa của My Auris. Dưới đây là các thông tin liên quan:\n",
    "{context}\n",
    "\n",
    "Câu hỏi: {query}\n",
    "Hãy trả lời rõ ràng, đúng nội dung, bằng tiếng Việt:\"\"\"\n",
    "\n",
    "    response = client.chat.completions.create(\n",
    "        model=model,\n",
    "        messages=[{\"role\": \"user\", \"content\": prompt}],\n",
    "        temperature=0.7,\n",
    "        max_tokens=None\n",
    "    )\n",
    "\n",
    "    return response.choices[0].message.content"
   ]
  },
  {
   "cell_type": "code",
   "execution_count": 4,
   "id": "2fc4b8c6",
   "metadata": {},
   "outputs": [
    {
     "name": "stderr",
     "output_type": "stream",
     "text": [
      "C:\\Users\\FPTSHOP\\AppData\\Local\\Temp\\ipykernel_14932\\2801517889.py:4: LangChainDeprecationWarning: The method `BaseRetriever.get_relevant_documents` was deprecated in langchain-core 0.1.46 and will be removed in 1.0. Use :meth:`~invoke` instead.\n",
      "  results = retriever.get_relevant_documents(query)\n"
     ]
    },
    {
     "name": "stdout",
     "output_type": "stream",
     "text": [
      "Câu trả lời: <think>\n",
      "Được rồi, tôi đang xem xét câu hỏi của khách hàng về giá niềng răng tại Nha khoa My Auris. Họ muốn biết chi phí cụ thể cho dịch vụ này. Từ thông tin mà tôi có, tôi nhớ rằng My Auris cung cấp một số phương pháp niềng răng khác nhau với các mức giá đã được quy định rõ ràng.\n",
      "\n",
      "Trước tiên, tôi cần xác định xem khách hàng có đang tìm kiếm thông tin về các loại niềng răng khác nhau không. Tại My Auris, có ba loại niềng răng chính: kim loại thường, kim loại tự khóa và mắc cài sứ tự khóa. Mỗi loại có chi phí riêng.\n",
      "\n",
      "Niềng răng kim loại thường có giá 35.000.000 VNĐ, đây là lựa chọn tiết kiệm nhất. Niềng răng kim loại tự khóa có giá cao hơn một chút, 45.000.000 VNĐ, vì nó sử dụng công nghệ tự khóa hiện đại, giúp quá trình điều trị nhanh hơn và thoải mái hơn. Cuối cùng, niềng răng mắc cài sứ tự khóa là lựa chọn cao cấp nhất, với chi phí 60.000.000 VNĐ, phù hợp với những người muốn tính thẩm mỹ cao hơn vì mắc cài bằng sứ có màu sắc tương tự như răng tự nhiên.\n",
      "\n",
      "Tôi cũng cần nhấn mạnh rằng bảng giá này là trọn gói cho cả quá trình điều trị, và My Auris cam kết không phát sinh chi phí phụ thêm. Điều này giúp khách hàng yên tâm về mặt tài chính trong suốt quá trình niềng răng.\n",
      "\n",
      "Hơn nữa, My Auris còn cung cấp các dịch vụ khác như khám và tư vấn miễn phí cùng chuyên gia, minh bạch chi phí, và hỗ trợ trả góp với lãi suất 0%, giúp khách hàng dễ dàng hơn trong việc lựa chọn phương pháp phù hợp với ngân sách của mình.\n",
      "\n",
      "Vì vậy, khi khách hàng hỏi về giá niềng răng, tôi cần trình bày các lựa chọn và chi phí một cách rõ ràng, để họ có thể dễ dàng hiểu và đưa ra quyết định.\n",
      "</think>\n",
      "\n",
      "Giá niềng răng tại Nha khoa My Auris như sau:\n",
      "\n",
      "- **Niềng răng kim loại thường**: 35.000.000 VNĐ  \n",
      "- **Niềng răng kim loại tự khóa**: 45.000.000 VNĐ  \n",
      "- **Niềng răng mắc cài sứ tự khóa**: 60.000.000 VNĐ  \n",
      "\n",
      "Bảng giá trên là trọn gói cho cả quá trình điều trị, cam kết không phát sinh chi phí. My Auris cũng cung cấp các dịch vụ tiện ích như khám & tư vấn miễn phí cùng chuyên gia, minh bạch chi phí, và hỗ trợ trả góp 0% lãi suất.\n"
     ]
    }
   ],
   "source": [
    "query = \"Giá niềng răng là bao nhiêu?\"\n",
    "top_k_docs = retrieve_top_k(query, top_k=3)\n",
    "answer = generate_answer(query, top_k_docs)\n",
    "\n",
    "print(\"Câu trả lời:\", answer)"
   ]
  }
 ],
 "metadata": {
  "kernelspec": {
   "display_name": "dev",
   "language": "python",
   "name": "python3"
  },
  "language_info": {
   "codemirror_mode": {
    "name": "ipython",
    "version": 3
   },
   "file_extension": ".py",
   "mimetype": "text/x-python",
   "name": "python",
   "nbconvert_exporter": "python",
   "pygments_lexer": "ipython3",
   "version": "3.9.23"
  }
 },
 "nbformat": 4,
 "nbformat_minor": 5
}
